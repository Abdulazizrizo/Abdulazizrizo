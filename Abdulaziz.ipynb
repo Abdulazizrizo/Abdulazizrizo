{
 "cells": [
  {
   "cell_type": "code",
   "execution_count": 1,
   "id": "8ef28f16",
   "metadata": {},
   "outputs": [
    {
     "name": "stdout",
     "output_type": "stream",
     "text": [
      "Requirement already satisfied: mysql-connector-python in ./opt/anaconda3/lib/python3.9/site-packages (8.0.31)\n",
      "Requirement already satisfied: protobuf<=3.20.1,>=3.11.0 in ./opt/anaconda3/lib/python3.9/site-packages (from mysql-connector-python) (3.20.1)\n",
      "Note: you may need to restart the kernel to use updated packages.\n"
     ]
    }
   ],
   "source": [
    "pip install mysql-connector-python"
   ]
  },
  {
   "cell_type": "code",
   "execution_count": 16,
   "id": "b76cb921",
   "metadata": {},
   "outputs": [],
   "source": [
    "import mysql.connector"
   ]
  },
  {
   "cell_type": "code",
   "execution_count": 17,
   "id": "0706d8cb",
   "metadata": {},
   "outputs": [],
   "source": [
    "mydb=mysql.connector.connect(host=\"127.0.0.1\",user=\"root\",password=\"12345678\")\n",
    "\n",
    "mycursor=mydb.cursor()\n",
    "\n"
   ]
  },
  {
   "cell_type": "code",
   "execution_count": 29,
   "id": "0fcaa065",
   "metadata": {},
   "outputs": [],
   "source": [
    "mycursor.execute(\"CREATE DATABASE Abdulazizdb\")"
   ]
  },
  {
   "cell_type": "code",
   "execution_count": 53,
   "id": "9cde7ad4",
   "metadata": {},
   "outputs": [],
   "source": [
    "mydb=mysql.connector.connect(host=\"127.0.0.1\",user=\"root\",password=\"12345678\", database=\"Abdulazizdb\")\n",
    "\n",
    "\n",
    "mycursor=mydb.cursor()\n",
    "\n"
   ]
  },
  {
   "cell_type": "code",
   "execution_count": 61,
   "id": "39092672",
   "metadata": {},
   "outputs": [],
   "source": [
    "mycursor=mydb.cursor()\n",
    "mycursor.execute(\"CREATE TABLE Vehicles(Cond VARCHAR(1), Vehicle_id VARCHAR(5), Registration_id VARCHAR(8))\")\n"
   ]
  },
  {
   "cell_type": "code",
   "execution_count": 62,
   "id": "1d803ca3",
   "metadata": {},
   "outputs": [],
   "source": [
    "mycursor.execute(\"ALTER TABLE Vehicles ADD Manufacturer VARCHAR(30)\")\n",
    "mycursor.execute(\"ALTER TABLE Vehicles ADD Model VARCHAR(15)\")\n",
    "mycursor.execute(\"ALTER TABLE Vehicles ADD Color VARCHAR(15)\")\n",
    "mycursor.execute(\"ALTER TABLE Vehicles ADD Current_Od INTEGER(6)\")\n",
    "mycursor.execute(\"ALTER TABLE Vehicles ADD Brief_Desc VARCHAR(50)\")\n",
    "mycursor.execute(\"ALTER TABLE Vehicles ADD Final_Cost VARCHAR(15)\")"
   ]
  },
  {
   "cell_type": "code",
   "execution_count": 81,
   "id": "3513f1a6",
   "metadata": {},
   "outputs": [],
   "source": [
    "mycursor.execute(\"ALTER TABLE Vehicles ADD Date VARCHAR(10)\")"
   ]
  },
  {
   "cell_type": "code",
   "execution_count": 82,
   "id": "d8013dea",
   "metadata": {},
   "outputs": [],
   "source": [
    "assets=\"INSERT INTO Vehicles(Cond, Vehicle_id, Registration_id, Manufacturer, Model, Color, Current_Od, Brief_Desc, Final_Cost, Date) VALUES(%s,%s,%s,%s,%s,%s,%s,%s,%s,%s)\"\n",
    "Vehicles=[(\"R\",'V1999',\"123 ABC\",'Volvo','Olympian','Blue', '170000',\"Tire repair\",'W350', '2021/11/23'),\n",
    "         ('M','W2020',\"234 BCD\",'Chevralet','Cruize','White', '184999',\"Oil Levels\",'W300', '2021/03/14'),\n",
    "         ('R','N2003',\"345 CDE\",'Kia','Carens2','Black', '200000',\"Fuel Cap tightening\",'W700', '2022/09/03'),\n",
    "         ('R','O2000',\"456 DEF\",'Hyundai','Universe','White', 166000,\"Oxygen Sensor replacement\",'W3000', '2022/10/21'),\n",
    "         ('M','A2005',\"567 EFG\",'Hyundai','Universe','White', 44000,\"Air Filter\",'W200', '2022/06/28'),\n",
    "         ('R','V1999','678 FGH','Hyundai',\"Hi class\",'Red', 58000,\"Brake work\",'W50', '2022/01/12')]\n",
    "mycursor.executemany(assets, Vehicles)\n",
    "mydb.commit()"
   ]
  },
  {
   "cell_type": "code",
   "execution_count": 84,
   "id": "767f8b16",
   "metadata": {},
   "outputs": [],
   "source": [
    "mycursor.execute(\"CREATE TABLE Partisipant_Countries(Countries VARCHAR(30), Languages VARCHAR(3))\")\n"
   ]
  },
  {
   "cell_type": "code",
   "execution_count": 88,
   "id": "8990711b",
   "metadata": {},
   "outputs": [],
   "source": [
    "Country_info = \"INSERT INTO Partisipant_Countries(Countries, Languages) VALUES(%s, %s)\"\n",
    "Partisipant_Countries = [(\"Afghanistan\", \"AF\"),\n",
    "                        (\"Australia\", \"AU\"),\n",
    "                        (\"Bahrain\", \"BH\"),\n",
    "                        (\"China\", \"CN\"),\n",
    "                        (\"Chinese Taipei\", \"TP\"),\n",
    "                        (\"Timor-Leste\", \"TL\"),\n",
    "                        (\"Indonesia\", \"IN\"),\n",
    "                        (\"Kazakhstan\", \"KA\"),\n",
    "                        (\"Kirgizistan\", \"KZ\"),\n",
    "                        (\"Uzbekistan\", \"UZ\"),\n",
    "                        (\"Pakistan\", \"PK\"),\n",
    "                        (\"Qatar\", \"QT\"),\n",
    "                        (\"Oman\", \"OM\"),\n",
    "                        (\"Myanmar\", \"MY\"),\n",
    "                        (\"Palestine\", \"PL\"),\n",
    "                        (\"Saudi Arabia\", \"SA\"),\n",
    "                        (\"Singapore\", \"SG\"),\n",
    "                        (\"Tajikistan\", \"TJ\"),\n",
    "                        (\"Thailand\", \"TA\"),\n",
    "                        (\"Turkmenistan\", \"TK\"),\n",
    "                        (\"United Arab Emirates\", \"UA\"),\n",
    "                        (\"Vietnam\", \"VT\"),\n",
    "                        (\"Yemen\", \"YE\"),\n",
    "                        (\"South Korea\", \"KR\")]\n",
    "mycursor.executemany(Country_info, Partisipant_Countries)\n",
    "mydb.commit()"
   ]
  },
  {
   "cell_type": "code",
   "execution_count": 90,
   "id": "38df212d",
   "metadata": {},
   "outputs": [],
   "source": [
    "mycursor.execute(\"CREATE TABLE Partisipant_Officials(Country_Name VARCHAR(25), City_id INTEGER(8), Name VARCHAR(30), Position VARCHAR(20), Preferred_Language VARCHAR(20))\")\n"
   ]
  },
  {
   "cell_type": "code",
   "execution_count": 91,
   "id": "38658dc6",
   "metadata": {},
   "outputs": [],
   "source": [
    "Officials_info = \"INSERT INTO Partisipant_Officials(Country_Name, City_id, Name, Position, Preferred_Language) VALUES(%s, %s, %s, %s, %s)\"\n",
    "Partisipant_Officials = [(\"Uzbekistan\", \"12190257\", \"Abdulaziz\", \"Couch\", \"Uzbek\"),\n",
    "                         (\"United Arab Emirates\", \"02190258\", \"Abdulazeez\", \"Couch\", \"Arabic\"),\n",
    "                         (\"United Arab Emirates\", \"02190257\", \"Abdullakh\", \"Physician\", \"Arabic\"),\n",
    "                         (\"Yemen\", \"11190257\", \"Ali\", \"Couch\", \"Arabic\"),\n",
    "                         (\"Vietnam\", \"22290257\", \"David\", \"Couch\", \"English\"),\n",
    "                         (\"Thailand\", \"33390257\", \"Jone\", \"Couch\", \"Korean\"),\n",
    "                         (\"Singapore\", \"44490257\", \"Omar\", \"Couch\", \"English\"),\n",
    "                         (\"Oman\", \"55590257\", \"Amr\", \"Couch\", \"English\"),\n",
    "                         (\"Qatar\", \"66690257\", \"Abdulrohman\", \"Couch\", \"Arabic\"),\n",
    "                         (\"Qatar\", \"66690257\", \"Abu Bakr\", \"Couch\", \"English\"),\n",
    "                         (\"Palestine\", \"77790257\", \"David\", \"Couch\", \"Arabic\"),\n",
    "                         (\"Palestine\", \"77790257\", \"Uthman\", \"Couch\", \"English\"),\n",
    "                         (\"Kirgizistan\", \"88890257\", \"Bahodir\", \"Couch\", \"English\"),\n",
    "                         (\"Kirgizistan\", \"88890257\", \"Elmar\", \"Couch\", \"English\"),\n",
    "                         (\"Uzbekistan\", \"12190250\", \"Islam\", \"Couch\", \"Uzbek\"),\n",
    "                         (\"Australia\", \"12345678\", \"Peter\", \"Couch\", \"English\"),\n",
    "                         (\"Pakistan\", \"23456789\", \"Talib\", \"Physician\", \"Urdu\"),\n",
    "                         (\"Indonesia\", \"34567890\", \"Amir\", \"Couch\", \"English\"),\n",
    "                         (\"Kazakhstan\", \"45678901\", \"Kim\", \"Couch\", \"Korean\"),\n",
    "                         (\"China\", \"56789012\", \"Chin\", \"Couch\", \"Chinese\"),\n",
    "                         (\"Bahrain\", \"67890123\", \"Omair\", \"Couch\", \"English\"),\n",
    "                         (\"Afghanistan\", \"78901234\", \"Husayn\", \"Couch\", \"English\"),\n",
    "                         (\"Turmenistan\", \"89012345\", \"Abi Talib\", \"Couch\", \"Arabic\"),\n",
    "                         (\"Yemen\", \"90123456\", \"Mahmud\", \"Couch\", \"English\"),]\n",
    "mycursor.executemany(Officials_info, Partisipant_Officials)\n",
    "mydb.commit()\n",
    "\n",
    "# Here is the data for participating officials: their country, Incheon City id, name, role, Language."
   ]
  },
  {
   "cell_type": "code",
   "execution_count": 98,
   "id": "2133128e",
   "metadata": {},
   "outputs": [
    {
     "ename": "ProgrammingError",
     "evalue": "1050 (42S01): Table 'drivers' already exists",
     "output_type": "error",
     "traceback": [
      "\u001b[0;31m---------------------------------------------------------------------------\u001b[0m",
      "\u001b[0;31mProgrammingError\u001b[0m                          Traceback (most recent call last)",
      "\u001b[0;32m/var/folders/h0/crl6sc694s7dhmjf7zj6_nfm0000gn/T/ipykernel_22921/1251288036.py\u001b[0m in \u001b[0;36m<module>\u001b[0;34m\u001b[0m\n\u001b[1;32m      1\u001b[0m \u001b[0mmycursor\u001b[0m\u001b[0;34m=\u001b[0m\u001b[0mmydb\u001b[0m\u001b[0;34m.\u001b[0m\u001b[0mcursor\u001b[0m\u001b[0;34m(\u001b[0m\u001b[0;34m)\u001b[0m\u001b[0;34m\u001b[0m\u001b[0;34m\u001b[0m\u001b[0m\n\u001b[0;32m----> 2\u001b[0;31m \u001b[0mmycursor\u001b[0m\u001b[0;34m.\u001b[0m\u001b[0mexecute\u001b[0m\u001b[0;34m(\u001b[0m\u001b[0;34m\"CREATE TABLE Drivers(D_name VARCHAR(20),L_Number INTEGER(18))\"\u001b[0m\u001b[0;34m)\u001b[0m\u001b[0;31m# licence number should have 18 characters\u001b[0m\u001b[0;34m\u001b[0m\u001b[0;34m\u001b[0m\u001b[0m\n\u001b[0m\u001b[1;32m      3\u001b[0m \u001b[0mmycursor\u001b[0m\u001b[0;34m.\u001b[0m\u001b[0mexecute\u001b[0m\u001b[0;34m(\u001b[0m\u001b[0;34m\"ALTER TABLE Drivers ADD Cl_Level INTEGER(1)\"\u001b[0m\u001b[0;34m)\u001b[0m\u001b[0;31m# 1 - 4\u001b[0m\u001b[0;34m\u001b[0m\u001b[0;34m\u001b[0m\u001b[0m\n\u001b[1;32m      4\u001b[0m \u001b[0;34m\u001b[0m\u001b[0m\n\u001b[1;32m      5\u001b[0m \u001b[0mmycursor\u001b[0m\u001b[0;34m.\u001b[0m\u001b[0mexecute\u001b[0m\u001b[0;34m(\u001b[0m\u001b[0;34m\"ALTER TABLE Drivers ADD FATL_Test VARCHAR(3)\"\u001b[0m\u001b[0;34m)\u001b[0m\u001b[0;31m# yes or no\u001b[0m\u001b[0;34m\u001b[0m\u001b[0;34m\u001b[0m\u001b[0m\n",
      "\u001b[0;32m~/opt/anaconda3/lib/python3.9/site-packages/mysql/connector/cursor.py\u001b[0m in \u001b[0;36mexecute\u001b[0;34m(self, operation, params, multi)\u001b[0m\n\u001b[1;32m    562\u001b[0m \u001b[0;34m\u001b[0m\u001b[0m\n\u001b[1;32m    563\u001b[0m         \u001b[0;32mtry\u001b[0m\u001b[0;34m:\u001b[0m\u001b[0;34m\u001b[0m\u001b[0;34m\u001b[0m\u001b[0m\n\u001b[0;32m--> 564\u001b[0;31m             \u001b[0mself\u001b[0m\u001b[0;34m.\u001b[0m\u001b[0m_handle_result\u001b[0m\u001b[0;34m(\u001b[0m\u001b[0mself\u001b[0m\u001b[0;34m.\u001b[0m\u001b[0m_connection\u001b[0m\u001b[0;34m.\u001b[0m\u001b[0mcmd_query\u001b[0m\u001b[0;34m(\u001b[0m\u001b[0mstmt\u001b[0m\u001b[0;34m)\u001b[0m\u001b[0;34m)\u001b[0m\u001b[0;34m\u001b[0m\u001b[0;34m\u001b[0m\u001b[0m\n\u001b[0m\u001b[1;32m    565\u001b[0m         \u001b[0;32mexcept\u001b[0m \u001b[0mInterfaceError\u001b[0m \u001b[0;32mas\u001b[0m \u001b[0merr\u001b[0m\u001b[0;34m:\u001b[0m\u001b[0;34m\u001b[0m\u001b[0;34m\u001b[0m\u001b[0m\n\u001b[1;32m    566\u001b[0m             \u001b[0;32mif\u001b[0m \u001b[0mself\u001b[0m\u001b[0;34m.\u001b[0m\u001b[0m_connection\u001b[0m\u001b[0;34m.\u001b[0m\u001b[0mhave_next_result\u001b[0m\u001b[0;34m:\u001b[0m\u001b[0;34m\u001b[0m\u001b[0;34m\u001b[0m\u001b[0m\n",
      "\u001b[0;32m~/opt/anaconda3/lib/python3.9/site-packages/mysql/connector/connection.py\u001b[0m in \u001b[0;36mcmd_query\u001b[0;34m(self, query, raw, buffered, raw_as_string)\u001b[0m\n\u001b[1;32m    988\u001b[0m         \u001b[0mquery\u001b[0m \u001b[0;34m=\u001b[0m \u001b[0mbytes\u001b[0m\u001b[0;34m(\u001b[0m\u001b[0mpacket\u001b[0m\u001b[0;34m)\u001b[0m\u001b[0;34m\u001b[0m\u001b[0;34m\u001b[0m\u001b[0m\n\u001b[1;32m    989\u001b[0m         \u001b[0;32mtry\u001b[0m\u001b[0;34m:\u001b[0m\u001b[0;34m\u001b[0m\u001b[0;34m\u001b[0m\u001b[0m\n\u001b[0;32m--> 990\u001b[0;31m             \u001b[0mresult\u001b[0m \u001b[0;34m=\u001b[0m \u001b[0mself\u001b[0m\u001b[0;34m.\u001b[0m\u001b[0m_handle_result\u001b[0m\u001b[0;34m(\u001b[0m\u001b[0mself\u001b[0m\u001b[0;34m.\u001b[0m\u001b[0m_send_cmd\u001b[0m\u001b[0;34m(\u001b[0m\u001b[0mServerCmd\u001b[0m\u001b[0;34m.\u001b[0m\u001b[0mQUERY\u001b[0m\u001b[0;34m,\u001b[0m \u001b[0mquery\u001b[0m\u001b[0;34m)\u001b[0m\u001b[0;34m)\u001b[0m\u001b[0;34m\u001b[0m\u001b[0;34m\u001b[0m\u001b[0m\n\u001b[0m\u001b[1;32m    991\u001b[0m         \u001b[0;32mexcept\u001b[0m \u001b[0mProgrammingError\u001b[0m \u001b[0;32mas\u001b[0m \u001b[0merr\u001b[0m\u001b[0;34m:\u001b[0m\u001b[0;34m\u001b[0m\u001b[0;34m\u001b[0m\u001b[0m\n\u001b[1;32m    992\u001b[0m             \u001b[0;32mif\u001b[0m \u001b[0merr\u001b[0m\u001b[0;34m.\u001b[0m\u001b[0merrno\u001b[0m \u001b[0;34m==\u001b[0m \u001b[0;36m3948\u001b[0m \u001b[0;32mand\u001b[0m \u001b[0;34m\"Loading local data is disabled\"\u001b[0m \u001b[0;32min\u001b[0m \u001b[0merr\u001b[0m\u001b[0;34m.\u001b[0m\u001b[0mmsg\u001b[0m\u001b[0;34m:\u001b[0m\u001b[0;34m\u001b[0m\u001b[0;34m\u001b[0m\u001b[0m\n",
      "\u001b[0;32m~/opt/anaconda3/lib/python3.9/site-packages/mysql/connector/connection.py\u001b[0m in \u001b[0;36m_handle_result\u001b[0;34m(self, packet)\u001b[0m\n\u001b[1;32m    782\u001b[0m             \u001b[0;32mreturn\u001b[0m \u001b[0mself\u001b[0m\u001b[0;34m.\u001b[0m\u001b[0m_handle_eof\u001b[0m\u001b[0;34m(\u001b[0m\u001b[0mpacket\u001b[0m\u001b[0;34m)\u001b[0m\u001b[0;34m\u001b[0m\u001b[0;34m\u001b[0m\u001b[0m\n\u001b[1;32m    783\u001b[0m         \u001b[0;32mif\u001b[0m \u001b[0mpacket\u001b[0m\u001b[0;34m[\u001b[0m\u001b[0;36m4\u001b[0m\u001b[0;34m]\u001b[0m \u001b[0;34m==\u001b[0m \u001b[0;36m255\u001b[0m\u001b[0;34m:\u001b[0m\u001b[0;34m\u001b[0m\u001b[0;34m\u001b[0m\u001b[0m\n\u001b[0;32m--> 784\u001b[0;31m             \u001b[0;32mraise\u001b[0m \u001b[0mget_exception\u001b[0m\u001b[0;34m(\u001b[0m\u001b[0mpacket\u001b[0m\u001b[0;34m)\u001b[0m\u001b[0;34m\u001b[0m\u001b[0;34m\u001b[0m\u001b[0m\n\u001b[0m\u001b[1;32m    785\u001b[0m \u001b[0;34m\u001b[0m\u001b[0m\n\u001b[1;32m    786\u001b[0m         \u001b[0;31m# We have a text result set\u001b[0m\u001b[0;34m\u001b[0m\u001b[0;34m\u001b[0m\u001b[0m\n",
      "\u001b[0;31mProgrammingError\u001b[0m: 1050 (42S01): Table 'drivers' already exists"
     ]
    }
   ],
   "source": [
    "mycursor=mydb.cursor()\n",
    "mycursor.execute(\"CREATE TABLE Drivers(D_name VARCHAR(20),L_Number INTEGER(18))\")# licence number should have 18 characters\n",
    "mycursor.execute(\"ALTER TABLE Drivers ADD Cl_Level INTEGER(1)\")# 1 - 4\n",
    "\n",
    "mycursor.execute(\"ALTER TABLE Drivers ADD FATL_Test VARCHAR(3)\")# yes or no\n",
    "mycursor.execute(\"ALTER TABLE Drivers ADD FATL_Level INTEGER(2)\")# 1 - 10\n",
    "mycursor.execute(\"ALTER TABLE Drivers ADD FATLQ_Date VARCHAR(10)\") # FATL qualification date.\n",
    "\n",
    "mycursor.execute(\"ALTER TABLE Drivers ADD STLVT_Test VARCHAR(3)\")# yes or no\n",
    "mycursor.execute(\"ALTER TABLE Drivers ADD STLVT_Level INTEGER(2)\")# 1 -5\n",
    "mycursor.execute(\"ALTER TABLE Drivers ADD STLVTQ_Date VARCHAR(10)\")# STLVT qualification date.\n",
    "mycursor.execute(\"ALTER TABLE Drivers ADD STLVT_Authority VARCHAR(50)\")# Qualifying Authority\n",
    "mycursor.execute(\"ALTER TABLE Drivers ADD Driver_Languages VARCHAR(70)\")# Languages that drivers can speak.\n",
    "\n",
    "\n",
    "#We create a table for drivers info here."
   ]
  },
  {
   "cell_type": "code",
   "execution_count": 104,
   "id": "2eb2f633",
   "metadata": {},
   "outputs": [],
   "source": [
    "mycursor.execute(\"ALTER TABLE Drivers DROP L_Number\")\n"
   ]
  },
  {
   "cell_type": "code",
   "execution_count": 105,
   "id": "1aa86aa8",
   "metadata": {},
   "outputs": [],
   "source": [
    "mycursor.execute(\"ALTER TABLE Drivers ADD L_Number VARCHAR(20)\")\n"
   ]
  },
  {
   "cell_type": "code",
   "execution_count": 110,
   "id": "5a8e1b7a",
   "metadata": {},
   "outputs": [
    {
     "name": "stdout",
     "output_type": "stream",
     "text": [
      "Name: Jony\n",
      "Clearance Level: 4\n",
      "FATL Test: No\n",
      "FATL Level: 0\n",
      "FATL qualification Date: 0\n",
      "STLVT Test: No\n",
      "STLVT Level: 0\n",
      "STLVT qualification Date: 0\n",
      "STLVT Authority: NO\n",
      "Language: Uzbek\n",
      "Licence No: 123456789012345678\n",
      "Name: David\n",
      "Clearance Level: 4\n",
      "FATL Test: Yes\n",
      "FATL Level: 10\n",
      "FATL qualification Date: 09/08/2014\n",
      "STLVT Test: No\n",
      "STLVT Level: 0\n",
      "STLVT qualification Date: 0\n",
      "STLVT Authority: No\n",
      "Language: Korean\n",
      "Licence No: 234567890123456789\n",
      "Name: Jone\n",
      "Clearance Level: 4\n",
      "FATL Test: No\n",
      "FATL Level: 0\n",
      "FATL qualification Date: 0\n",
      "STLVT Test: No\n",
      "STLVT Level: 0\n",
      "STLVT qualification Date: 0\n",
      "STLVT Authority: No\n",
      "Language: Urdu\n",
      "Licence No: 345678901234567890\n",
      "Name: Po\n",
      "Clearance Level: 4\n",
      "FATL Test: Yes\n",
      "FATL Level: 9\n",
      "FATL qualification Date: 06/05/2012\n",
      "STLVT Test: Yes\n",
      "STLVT Level: 5\n",
      "STLVT qualification Date: 07/07/2012\n",
      "STLVT Authority: Local Police\n",
      "Language: English\n",
      "Licence No: 456789012345678901\n",
      "Name: Ugvey\n",
      "Clearance Level: 4\n",
      "FATL Test: No\n",
      "FATL Level: 0\n",
      "FATL qualification Date: 0\n",
      "STLVT Test: No\n",
      "STLVT Level: 0\n",
      "STLVT qualification Date: 0\n",
      "STLVT Authority: No\n",
      "Language: Arabic\n",
      "Licence No: 567890123456789012\n",
      "Name: Tiger\n",
      "Clearance Level: 3\n",
      "FATL Test: No\n",
      "FATL Level: 0\n",
      "FATL qualification Date: 0\n",
      "STLVT Test: No\n",
      "STLVT Level: 0\n",
      "STLVT qualification Date: 0\n",
      "STLVT Authority: No\n",
      "Language: Chinese\n",
      "Licence No: 678901234567890123\n"
     ]
    }
   ],
   "source": [
    "sql='''INSERT INTO Drivers(D_name,Cl_Level,FATL_Test,FATL_Level,FATLQ_Date,STLVT_Test,STLVT_Level,STLVTQ_Date,STLVT_Authority,Driver_Languages,L_Number)\n",
    "VALUES(%s, %s, %s, %s, %s, %s, %s, %s, %s, %s, %s)'''\n",
    "for d in range(6):\n",
    "    name = input(\"Name: \")\n",
    "    clearance_l = int(input(\"Clearance Level: \"))# 1-4\n",
    "    fatl_t = input(\"FATL Test: \")#yes or no\n",
    "    fatl_l = input(\"FATL Level: \")#1-10\n",
    "    fatlq_d = input(\"FATL qualification Date: \")# FATL Q date\n",
    "    stlvt_test = input(\"STLVT Test: \")#yes or no\n",
    "    stlvt_l = input(\"STLVT Level: \")# 1-5\n",
    "    stlvtq_d = input(\"STLVT qualification Date: \")# Q date\n",
    "    stlvt_a = input(\"STLVT Authority: \") # Authority\n",
    "    drivers_lan = input(\"Language: \")\n",
    "    licence_n = input(\"Licence No: \")\n",
    "\n",
    "    Drivers = [(name, clearance_l, fatl_t, fatl_l, fatlq_d, stlvt_test, stlvt_l, stlvtq_d, stlvt_a, drivers_lan, licence_n)]\n",
    "    mycursor.executemany(sql, Drivers)\n",
    "mydb.commit() \n"
   ]
  },
  {
   "cell_type": "code",
   "execution_count": 28,
   "id": "b22efdda",
   "metadata": {},
   "outputs": [
    {
     "ename": "ProgrammingError",
     "evalue": "1060 (42S21): Duplicate column name 'Assigned_Drivers'",
     "output_type": "error",
     "traceback": [
      "\u001b[0;31m---------------------------------------------------------------------------\u001b[0m",
      "\u001b[0;31mProgrammingError\u001b[0m                          Traceback (most recent call last)",
      "\u001b[0;32m/var/folders/h0/crl6sc694s7dhmjf7zj6_nfm0000gn/T/ipykernel_57091/1289683713.py\u001b[0m in \u001b[0;36m<module>\u001b[0;34m\u001b[0m\n\u001b[0;32m----> 1\u001b[0;31m \u001b[0mmycursor\u001b[0m\u001b[0;34m.\u001b[0m\u001b[0mexecute\u001b[0m\u001b[0;34m(\u001b[0m\u001b[0;34m\"ALTER TABLE Partisipant_Officials ADD Assigned_Drivers VARCHAR(20)\"\u001b[0m\u001b[0;34m)\u001b[0m\u001b[0;34m\u001b[0m\u001b[0;34m\u001b[0m\u001b[0m\n\u001b[0m",
      "\u001b[0;32m~/opt/anaconda3/lib/python3.9/site-packages/mysql/connector/cursor.py\u001b[0m in \u001b[0;36mexecute\u001b[0;34m(self, operation, params, multi)\u001b[0m\n\u001b[1;32m    562\u001b[0m \u001b[0;34m\u001b[0m\u001b[0m\n\u001b[1;32m    563\u001b[0m         \u001b[0;32mtry\u001b[0m\u001b[0;34m:\u001b[0m\u001b[0;34m\u001b[0m\u001b[0;34m\u001b[0m\u001b[0m\n\u001b[0;32m--> 564\u001b[0;31m             \u001b[0mself\u001b[0m\u001b[0;34m.\u001b[0m\u001b[0m_handle_result\u001b[0m\u001b[0;34m(\u001b[0m\u001b[0mself\u001b[0m\u001b[0;34m.\u001b[0m\u001b[0m_connection\u001b[0m\u001b[0;34m.\u001b[0m\u001b[0mcmd_query\u001b[0m\u001b[0;34m(\u001b[0m\u001b[0mstmt\u001b[0m\u001b[0;34m)\u001b[0m\u001b[0;34m)\u001b[0m\u001b[0;34m\u001b[0m\u001b[0;34m\u001b[0m\u001b[0m\n\u001b[0m\u001b[1;32m    565\u001b[0m         \u001b[0;32mexcept\u001b[0m \u001b[0mInterfaceError\u001b[0m \u001b[0;32mas\u001b[0m \u001b[0merr\u001b[0m\u001b[0;34m:\u001b[0m\u001b[0;34m\u001b[0m\u001b[0;34m\u001b[0m\u001b[0m\n\u001b[1;32m    566\u001b[0m             \u001b[0;32mif\u001b[0m \u001b[0mself\u001b[0m\u001b[0;34m.\u001b[0m\u001b[0m_connection\u001b[0m\u001b[0;34m.\u001b[0m\u001b[0mhave_next_result\u001b[0m\u001b[0;34m:\u001b[0m\u001b[0;34m\u001b[0m\u001b[0;34m\u001b[0m\u001b[0m\n",
      "\u001b[0;32m~/opt/anaconda3/lib/python3.9/site-packages/mysql/connector/connection.py\u001b[0m in \u001b[0;36mcmd_query\u001b[0;34m(self, query, raw, buffered, raw_as_string)\u001b[0m\n\u001b[1;32m    988\u001b[0m         \u001b[0mquery\u001b[0m \u001b[0;34m=\u001b[0m \u001b[0mbytes\u001b[0m\u001b[0;34m(\u001b[0m\u001b[0mpacket\u001b[0m\u001b[0;34m)\u001b[0m\u001b[0;34m\u001b[0m\u001b[0;34m\u001b[0m\u001b[0m\n\u001b[1;32m    989\u001b[0m         \u001b[0;32mtry\u001b[0m\u001b[0;34m:\u001b[0m\u001b[0;34m\u001b[0m\u001b[0;34m\u001b[0m\u001b[0m\n\u001b[0;32m--> 990\u001b[0;31m             \u001b[0mresult\u001b[0m \u001b[0;34m=\u001b[0m \u001b[0mself\u001b[0m\u001b[0;34m.\u001b[0m\u001b[0m_handle_result\u001b[0m\u001b[0;34m(\u001b[0m\u001b[0mself\u001b[0m\u001b[0;34m.\u001b[0m\u001b[0m_send_cmd\u001b[0m\u001b[0;34m(\u001b[0m\u001b[0mServerCmd\u001b[0m\u001b[0;34m.\u001b[0m\u001b[0mQUERY\u001b[0m\u001b[0;34m,\u001b[0m \u001b[0mquery\u001b[0m\u001b[0;34m)\u001b[0m\u001b[0;34m)\u001b[0m\u001b[0;34m\u001b[0m\u001b[0;34m\u001b[0m\u001b[0m\n\u001b[0m\u001b[1;32m    991\u001b[0m         \u001b[0;32mexcept\u001b[0m \u001b[0mProgrammingError\u001b[0m \u001b[0;32mas\u001b[0m \u001b[0merr\u001b[0m\u001b[0;34m:\u001b[0m\u001b[0;34m\u001b[0m\u001b[0;34m\u001b[0m\u001b[0m\n\u001b[1;32m    992\u001b[0m             \u001b[0;32mif\u001b[0m \u001b[0merr\u001b[0m\u001b[0;34m.\u001b[0m\u001b[0merrno\u001b[0m \u001b[0;34m==\u001b[0m \u001b[0;36m3948\u001b[0m \u001b[0;32mand\u001b[0m \u001b[0;34m\"Loading local data is disabled\"\u001b[0m \u001b[0;32min\u001b[0m \u001b[0merr\u001b[0m\u001b[0;34m.\u001b[0m\u001b[0mmsg\u001b[0m\u001b[0;34m:\u001b[0m\u001b[0;34m\u001b[0m\u001b[0;34m\u001b[0m\u001b[0m\n",
      "\u001b[0;32m~/opt/anaconda3/lib/python3.9/site-packages/mysql/connector/connection.py\u001b[0m in \u001b[0;36m_handle_result\u001b[0;34m(self, packet)\u001b[0m\n\u001b[1;32m    782\u001b[0m             \u001b[0;32mreturn\u001b[0m \u001b[0mself\u001b[0m\u001b[0;34m.\u001b[0m\u001b[0m_handle_eof\u001b[0m\u001b[0;34m(\u001b[0m\u001b[0mpacket\u001b[0m\u001b[0;34m)\u001b[0m\u001b[0;34m\u001b[0m\u001b[0;34m\u001b[0m\u001b[0m\n\u001b[1;32m    783\u001b[0m         \u001b[0;32mif\u001b[0m \u001b[0mpacket\u001b[0m\u001b[0;34m[\u001b[0m\u001b[0;36m4\u001b[0m\u001b[0;34m]\u001b[0m \u001b[0;34m==\u001b[0m \u001b[0;36m255\u001b[0m\u001b[0;34m:\u001b[0m\u001b[0;34m\u001b[0m\u001b[0;34m\u001b[0m\u001b[0m\n\u001b[0;32m--> 784\u001b[0;31m             \u001b[0;32mraise\u001b[0m \u001b[0mget_exception\u001b[0m\u001b[0;34m(\u001b[0m\u001b[0mpacket\u001b[0m\u001b[0;34m)\u001b[0m\u001b[0;34m\u001b[0m\u001b[0;34m\u001b[0m\u001b[0m\n\u001b[0m\u001b[1;32m    785\u001b[0m \u001b[0;34m\u001b[0m\u001b[0m\n\u001b[1;32m    786\u001b[0m         \u001b[0;31m# We have a text result set\u001b[0m\u001b[0;34m\u001b[0m\u001b[0;34m\u001b[0m\u001b[0m\n",
      "\u001b[0;31mProgrammingError\u001b[0m: 1060 (42S21): Duplicate column name 'Assigned_Drivers'"
     ]
    }
   ],
   "source": [
    "mycursor.execute(\"ALTER TABLE Partisipant_Officials ADD Assigned_Drivers VARCHAR(20)\")"
   ]
  },
  {
   "cell_type": "code",
   "execution_count": 32,
   "id": "35f52e77",
   "metadata": {},
   "outputs": [
    {
     "ename": "ProgrammingError",
     "evalue": "Not all parameters were used in the SQL statement",
     "output_type": "error",
     "traceback": [
      "\u001b[0;31m---------------------------------------------------------------------------\u001b[0m",
      "\u001b[0;31mProgrammingError\u001b[0m                          Traceback (most recent call last)",
      "\u001b[0;32m/var/folders/h0/crl6sc694s7dhmjf7zj6_nfm0000gn/T/ipykernel_57091/337837381.py\u001b[0m in \u001b[0;36m<module>\u001b[0;34m\u001b[0m\n\u001b[1;32m     27\u001b[0m \u001b[0;34m\u001b[0m\u001b[0m\n\u001b[1;32m     28\u001b[0m \u001b[0;34m\u001b[0m\u001b[0m\n\u001b[0;32m---> 29\u001b[0;31m \u001b[0mmycursor\u001b[0m\u001b[0;34m.\u001b[0m\u001b[0mexecute\u001b[0m\u001b[0;34m(\u001b[0m\u001b[0mOfficials_info\u001b[0m\u001b[0;34m,\u001b[0m \u001b[0mname\u001b[0m\u001b[0;34m)\u001b[0m\u001b[0;34m\u001b[0m\u001b[0;34m\u001b[0m\u001b[0m\n\u001b[0m\u001b[1;32m     30\u001b[0m \u001b[0mmydb\u001b[0m\u001b[0;34m.\u001b[0m\u001b[0mcommit\u001b[0m\u001b[0;34m(\u001b[0m\u001b[0;34m)\u001b[0m\u001b[0;34m\u001b[0m\u001b[0;34m\u001b[0m\u001b[0m\n",
      "\u001b[0;32m~/opt/anaconda3/lib/python3.9/site-packages/mysql/connector/cursor.py\u001b[0m in \u001b[0;36mexecute\u001b[0;34m(self, operation, params, multi)\u001b[0m\n\u001b[1;32m    547\u001b[0m                 \u001b[0mstmt\u001b[0m \u001b[0;34m=\u001b[0m \u001b[0mRE_PY_PARAM\u001b[0m\u001b[0;34m.\u001b[0m\u001b[0msub\u001b[0m\u001b[0;34m(\u001b[0m\u001b[0mpsub\u001b[0m\u001b[0;34m,\u001b[0m \u001b[0mstmt\u001b[0m\u001b[0;34m)\u001b[0m\u001b[0;34m\u001b[0m\u001b[0;34m\u001b[0m\u001b[0m\n\u001b[1;32m    548\u001b[0m                 \u001b[0;32mif\u001b[0m \u001b[0mpsub\u001b[0m\u001b[0;34m.\u001b[0m\u001b[0mremaining\u001b[0m \u001b[0;34m!=\u001b[0m \u001b[0;36m0\u001b[0m\u001b[0;34m:\u001b[0m\u001b[0;34m\u001b[0m\u001b[0;34m\u001b[0m\u001b[0m\n\u001b[0;32m--> 549\u001b[0;31m                     raise ProgrammingError(\n\u001b[0m\u001b[1;32m    550\u001b[0m                         \u001b[0;34m\"Not all parameters were used in the SQL statement\"\u001b[0m\u001b[0;34m\u001b[0m\u001b[0;34m\u001b[0m\u001b[0m\n\u001b[1;32m    551\u001b[0m                     )\n",
      "\u001b[0;31mProgrammingError\u001b[0m: Not all parameters were used in the SQL statement"
     ]
    }
   ],
   "source": [
    "Officials_info = \"INSERT INTO Partisipant_Officials(Assigned_Drivers) VALUES(%s)\"\n",
    "Partisipant_Officials = [(\"Jony\"),\n",
    "                         (\"Ugvey\"),\n",
    "                         (\"Ugvey\"),\n",
    "                         (\"Ugvey\"),\n",
    "                         (\"Po\"),\n",
    "                         (\"David\"),\n",
    "                         (\"Po\"),\n",
    "                         (\"Po\"),\n",
    "                         (\"Ugvey\"),\n",
    "                         (\"Po\"),\n",
    "                         (\"Ugvey\"),\n",
    "                         (\"Po\"),\n",
    "                         (\"Po\"),\n",
    "                         (\"Po\"),\n",
    "                         (\"Jony\"),\n",
    "                         (\"Po\"),\n",
    "                         (\"Jone\"),\n",
    "                         (\"Po\"),\n",
    "                         (\"David\"),\n",
    "                         (\"Tiger\"),\n",
    "                         (\"Po\"),\n",
    "                         (\"Po\"),\n",
    "                         (\"Ugvey\"),\n",
    "                         (\"Po\")]\n",
    "\n",
    "# \"Jony\",\n",
    "# \t \"Ugvey\",\n",
    "# \t \"Ugvey\",\n",
    "# \t \"Ugvey\",\n",
    "# \t \"Po\",\n",
    "# \t \"David\",\n",
    "# \t \"Po\",\n",
    "# \t \"Po\",\n",
    "# \t \"Ugvey\",\n",
    "# \t \"Po\",\n",
    "# \t \"Ugvey\",\n",
    "# \t \"Po\",\n",
    "# \t \"Po\",\n",
    "# \t \"Po\",\n",
    "# \t \"Jony\",\n",
    "# \t \"Po\",\n",
    "# \t \"Jone\",\n",
    "# \t \"Po\",\n",
    "# \t \"David\",\n",
    "# \t \"Tiger\",\n",
    "# \t \"Po\",\n",
    "# \t \"Po\",\n",
    "# \t \"Ugvey\",\n",
    "# \t \"Po\"\n",
    "\n",
    "    \n",
    "    mycursor.execute(Officials_info, name)\n",
    "mydb.commit()\n"
   ]
  },
  {
   "cell_type": "code",
   "execution_count": 11,
   "id": "368e75f3",
   "metadata": {},
   "outputs": [
    {
     "ename": "SyntaxError",
     "evalue": "invalid syntax (2635848928.py, line 1)",
     "output_type": "error",
     "traceback": [
      "\u001b[0;36m  File \u001b[0;32m\"/var/folders/h0/crl6sc694s7dhmjf7zj6_nfm0000gn/T/ipykernel_55162/2635848928.py\"\u001b[0;36m, line \u001b[0;32m1\u001b[0m\n\u001b[0;31m    SELECT * FROM Partisipant_Officials;\u001b[0m\n\u001b[0m                  ^\u001b[0m\n\u001b[0;31mSyntaxError\u001b[0m\u001b[0;31m:\u001b[0m invalid syntax\n"
     ]
    }
   ],
   "source": [
    "SELECT * FROM Partisipant_Officials;"
   ]
  },
  {
   "cell_type": "code",
   "execution_count": 33,
   "id": "b6bd71ec",
   "metadata": {},
   "outputs": [
    {
     "ename": "ProgrammingError",
     "evalue": "1064 (42000): You have an error in your SQL syntax; check the manual that corresponds to your MySQL server version for the right syntax to use near '' at line 1",
     "output_type": "error",
     "traceback": [
      "\u001b[0;31m---------------------------------------------------------------------------\u001b[0m",
      "\u001b[0;31mProgrammingError\u001b[0m                          Traceback (most recent call last)",
      "\u001b[0;32m/var/folders/h0/crl6sc694s7dhmjf7zj6_nfm0000gn/T/ipykernel_57091/1051367946.py\u001b[0m in \u001b[0;36m<module>\u001b[0;34m\u001b[0m\n\u001b[0;32m----> 1\u001b[0;31m \u001b[0mmycursor\u001b[0m\u001b[0;34m.\u001b[0m\u001b[0mexecute\u001b[0m\u001b[0;34m(\u001b[0m\u001b[0;34m\"ALTER DATABASE Abdulazizdb\"\u001b[0m\u001b[0;34m)\u001b[0m\u001b[0;34m\u001b[0m\u001b[0;34m\u001b[0m\u001b[0m\n\u001b[0m",
      "\u001b[0;32m~/opt/anaconda3/lib/python3.9/site-packages/mysql/connector/cursor.py\u001b[0m in \u001b[0;36mexecute\u001b[0;34m(self, operation, params, multi)\u001b[0m\n\u001b[1;32m    562\u001b[0m \u001b[0;34m\u001b[0m\u001b[0m\n\u001b[1;32m    563\u001b[0m         \u001b[0;32mtry\u001b[0m\u001b[0;34m:\u001b[0m\u001b[0;34m\u001b[0m\u001b[0;34m\u001b[0m\u001b[0m\n\u001b[0;32m--> 564\u001b[0;31m             \u001b[0mself\u001b[0m\u001b[0;34m.\u001b[0m\u001b[0m_handle_result\u001b[0m\u001b[0;34m(\u001b[0m\u001b[0mself\u001b[0m\u001b[0;34m.\u001b[0m\u001b[0m_connection\u001b[0m\u001b[0;34m.\u001b[0m\u001b[0mcmd_query\u001b[0m\u001b[0;34m(\u001b[0m\u001b[0mstmt\u001b[0m\u001b[0;34m)\u001b[0m\u001b[0;34m)\u001b[0m\u001b[0;34m\u001b[0m\u001b[0;34m\u001b[0m\u001b[0m\n\u001b[0m\u001b[1;32m    565\u001b[0m         \u001b[0;32mexcept\u001b[0m \u001b[0mInterfaceError\u001b[0m \u001b[0;32mas\u001b[0m \u001b[0merr\u001b[0m\u001b[0;34m:\u001b[0m\u001b[0;34m\u001b[0m\u001b[0;34m\u001b[0m\u001b[0m\n\u001b[1;32m    566\u001b[0m             \u001b[0;32mif\u001b[0m \u001b[0mself\u001b[0m\u001b[0;34m.\u001b[0m\u001b[0m_connection\u001b[0m\u001b[0;34m.\u001b[0m\u001b[0mhave_next_result\u001b[0m\u001b[0;34m:\u001b[0m\u001b[0;34m\u001b[0m\u001b[0;34m\u001b[0m\u001b[0m\n",
      "\u001b[0;32m~/opt/anaconda3/lib/python3.9/site-packages/mysql/connector/connection.py\u001b[0m in \u001b[0;36mcmd_query\u001b[0;34m(self, query, raw, buffered, raw_as_string)\u001b[0m\n\u001b[1;32m    988\u001b[0m         \u001b[0mquery\u001b[0m \u001b[0;34m=\u001b[0m \u001b[0mbytes\u001b[0m\u001b[0;34m(\u001b[0m\u001b[0mpacket\u001b[0m\u001b[0;34m)\u001b[0m\u001b[0;34m\u001b[0m\u001b[0;34m\u001b[0m\u001b[0m\n\u001b[1;32m    989\u001b[0m         \u001b[0;32mtry\u001b[0m\u001b[0;34m:\u001b[0m\u001b[0;34m\u001b[0m\u001b[0;34m\u001b[0m\u001b[0m\n\u001b[0;32m--> 990\u001b[0;31m             \u001b[0mresult\u001b[0m \u001b[0;34m=\u001b[0m \u001b[0mself\u001b[0m\u001b[0;34m.\u001b[0m\u001b[0m_handle_result\u001b[0m\u001b[0;34m(\u001b[0m\u001b[0mself\u001b[0m\u001b[0;34m.\u001b[0m\u001b[0m_send_cmd\u001b[0m\u001b[0;34m(\u001b[0m\u001b[0mServerCmd\u001b[0m\u001b[0;34m.\u001b[0m\u001b[0mQUERY\u001b[0m\u001b[0;34m,\u001b[0m \u001b[0mquery\u001b[0m\u001b[0;34m)\u001b[0m\u001b[0;34m)\u001b[0m\u001b[0;34m\u001b[0m\u001b[0;34m\u001b[0m\u001b[0m\n\u001b[0m\u001b[1;32m    991\u001b[0m         \u001b[0;32mexcept\u001b[0m \u001b[0mProgrammingError\u001b[0m \u001b[0;32mas\u001b[0m \u001b[0merr\u001b[0m\u001b[0;34m:\u001b[0m\u001b[0;34m\u001b[0m\u001b[0;34m\u001b[0m\u001b[0m\n\u001b[1;32m    992\u001b[0m             \u001b[0;32mif\u001b[0m \u001b[0merr\u001b[0m\u001b[0;34m.\u001b[0m\u001b[0merrno\u001b[0m \u001b[0;34m==\u001b[0m \u001b[0;36m3948\u001b[0m \u001b[0;32mand\u001b[0m \u001b[0;34m\"Loading local data is disabled\"\u001b[0m \u001b[0;32min\u001b[0m \u001b[0merr\u001b[0m\u001b[0;34m.\u001b[0m\u001b[0mmsg\u001b[0m\u001b[0;34m:\u001b[0m\u001b[0;34m\u001b[0m\u001b[0;34m\u001b[0m\u001b[0m\n",
      "\u001b[0;32m~/opt/anaconda3/lib/python3.9/site-packages/mysql/connector/connection.py\u001b[0m in \u001b[0;36m_handle_result\u001b[0;34m(self, packet)\u001b[0m\n\u001b[1;32m    782\u001b[0m             \u001b[0;32mreturn\u001b[0m \u001b[0mself\u001b[0m\u001b[0;34m.\u001b[0m\u001b[0m_handle_eof\u001b[0m\u001b[0;34m(\u001b[0m\u001b[0mpacket\u001b[0m\u001b[0;34m)\u001b[0m\u001b[0;34m\u001b[0m\u001b[0;34m\u001b[0m\u001b[0m\n\u001b[1;32m    783\u001b[0m         \u001b[0;32mif\u001b[0m \u001b[0mpacket\u001b[0m\u001b[0;34m[\u001b[0m\u001b[0;36m4\u001b[0m\u001b[0;34m]\u001b[0m \u001b[0;34m==\u001b[0m \u001b[0;36m255\u001b[0m\u001b[0;34m:\u001b[0m\u001b[0;34m\u001b[0m\u001b[0;34m\u001b[0m\u001b[0m\n\u001b[0;32m--> 784\u001b[0;31m             \u001b[0;32mraise\u001b[0m \u001b[0mget_exception\u001b[0m\u001b[0;34m(\u001b[0m\u001b[0mpacket\u001b[0m\u001b[0;34m)\u001b[0m\u001b[0;34m\u001b[0m\u001b[0;34m\u001b[0m\u001b[0m\n\u001b[0m\u001b[1;32m    785\u001b[0m \u001b[0;34m\u001b[0m\u001b[0m\n\u001b[1;32m    786\u001b[0m         \u001b[0;31m# We have a text result set\u001b[0m\u001b[0;34m\u001b[0m\u001b[0;34m\u001b[0m\u001b[0m\n",
      "\u001b[0;31mProgrammingError\u001b[0m: 1064 (42000): You have an error in your SQL syntax; check the manual that corresponds to your MySQL server version for the right syntax to use near '' at line 1"
     ]
    }
   ],
   "source": [
    "mycursor.execute(\"ALTER DATABASE Abdulazizdb\")"
   ]
  },
  {
   "cell_type": "code",
   "execution_count": 46,
   "id": "9f2f0be0",
   "metadata": {},
   "outputs": [],
   "source": [
    "mycursor.execute(\"CREATE TABLE droffnames(Officials_names VARCHAR(20),Drivers_names VARCHAR(20))\")"
   ]
  },
  {
   "cell_type": "code",
   "execution_count": 50,
   "id": "1416801b",
   "metadata": {},
   "outputs": [],
   "source": [
    "sql_command = \"INSERT INTO droffnames (Officials_names,Drivers_names) VALUES(%s,%s)\"\n",
    "Partisipant_Officials = [(\"Abdulaziz\",\"Jony\"),\n",
    "                         (\"Abdulazeez\",\"Ugvey\"),\n",
    "                         (\"Abdullakh\",\"Ugvey\"),\n",
    "                         (\"Ali\",\"Ugvey\"),\n",
    "                         (\"David\",\"Po\"),\n",
    "                         (\"Jone\",\"David\"),\n",
    "                         (\"Omar\",\"Po\"),\n",
    "                         (\"Amir\",\"Po\"),\n",
    "                         (\"Abdulrohman\",\"Ugvey\"),\n",
    "                         (\"Abu Bakr\",\"Po\"),\n",
    "                         (\"David\",\"Ugvey\"),\n",
    "                         (\"Uthman\",\"Po\"),\n",
    "                         (\"Bahodir\",\"Po\"),\n",
    "                         (\"Elmar\",\"Po\"),\n",
    "                         (\"Islam\",\"Jony\"),\n",
    "                         (\"Peter\",\"Po\"),\n",
    "                         (\"Talib\",\"Jone\"),\n",
    "                         (\"Amir\",\"Po\"),\n",
    "                         (\"Kim\",\"David\"),\n",
    "                         (\"Chin\"\"Tiger\"),\n",
    "                         (\"Omair\",\"Po\"),\n",
    "                         (\"Husayn\",\"Po\"),\n",
    "                         (\"Abi Talib\",\"Ugvey\"),\n",
    "                         (\"Mahmud\",\"Po\")]\n",
    "mycursor.executemany(droffnames, Partisipant_Officials)\n",
    "mydb.commit()"
   ]
  },
  {
   "cell_type": "code",
   "execution_count": 54,
   "id": "41adff71",
   "metadata": {},
   "outputs": [],
   "source": [
    "mycursor.execute(\"CREATE TABLE Trips(Start  INTEGER(20),End INTEGER(18),Booking_num INTEGER(18),pick_up VARCHAR(18),drop_off VARCHAR(20),type VARCHAR(18))\")# licence number should have 18 characters\n"
   ]
  },
  {
   "cell_type": "code",
   "execution_count": 55,
   "id": "10dd297f",
   "metadata": {},
   "outputs": [],
   "source": [
    "s=\"INSERT INTO Trips(Start,End,Booking_num,pick_up,drop_off,type) VALUES(%s,%s,%s,%s,%s,%s)\"\n",
    "trips_list=[(20221208,20221230,23456,\"Bukhary street\",\"Behind house\",\"Hotel\"),\n",
    "         (20230302,20232330,87696,\"Culture street\",\"Culture street\", \"Home\"),\n",
    "         (20230102,20230203,94565,\"Behind bank\", \"Beside Inha\", \"Police station\"),\n",
    "         (20230205,20230406,67543,\"Bahodir street\", \"G'ofurjon street\",\"Hospital\"),\n",
    "        (20220212,20230230,53050,\"Abdulaziz street\", \"Abdulaziz Avenue\",\"House\")]\n",
    "mycursor.executemany(s,trips_list)\n",
    "mydb.commit()"
   ]
  },
  {
   "cell_type": "code",
   "execution_count": null,
   "id": "3b97dbe3",
   "metadata": {},
   "outputs": [],
   "source": []
  }
 ],
 "metadata": {
  "kernelspec": {
   "display_name": "Python 3 (ipykernel)",
   "language": "python",
   "name": "python3"
  },
  "language_info": {
   "codemirror_mode": {
    "name": "ipython",
    "version": 3
   },
   "file_extension": ".py",
   "mimetype": "text/x-python",
   "name": "python",
   "nbconvert_exporter": "python",
   "pygments_lexer": "ipython3",
   "version": "3.9.13"
  }
 },
 "nbformat": 4,
 "nbformat_minor": 5
}
